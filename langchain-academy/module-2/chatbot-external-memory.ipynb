{
 "cells": [
  {
   "cell_type": "markdown",
   "id": "cf7ccb32",
   "metadata": {},
   "source": [
    "[![Open in Colab](https://colab.research.google.com/assets/colab-badge.svg)](https://colab.research.google.com/github/langchain-ai/langchain-academy/blob/main/module-2/chatbot-external-memory.ipynb) [![Open in LangChain Academy](https://cdn.prod.website-files.com/65b8cd72835ceeacd4449a53/66e9eba12c7b7688aa3dbb5e_LCA-badge-green.svg)](https://academy.langchain.com/courses/take/intro-to-langgraph/lessons/58239440-lesson-6-chatbot-w-summarizing-messages-and-external-memory)"
   ]
  },
  {
   "cell_type": "markdown",
   "id": "af6c7afe-1037-41ab-98e4-494692e47402",
   "metadata": {},
   "source": [
    "# Chatbot with message summarization & external DB memory\n",
    "\n",
    "## Review\n",
    "\n",
    "We've covered how to customize graph state schema and reducer. \n",
    " \n",
    "We've also shown a number of tricks for trimming or filtering messages in graph state. \n",
    "\n",
    "We've used these concepts in a Chatbot with memory that produces a running summary of the conversation.\n",
    "\n",
    "## Goals\n",
    "\n",
    "But, what if we want our Chatbot to have memory that persists indefinitely?\n",
    "\n",
    "Now, we'll introduce some more advanced checkpointers that support external databases. \n",
    "\n",
    "Here, we'll show how to use [Sqlite as a checkpointer](https://langchain-ai.github.io/langgraph/concepts/low_level/#checkpointer), but other checkpointers, such as [Postgres](https://langchain-ai.github.io/langgraph/how-tos/persistence_postgres/) are available!"
   ]
  },
  {
   "cell_type": "code",
   "execution_count": 5,
   "id": "85ed78d9-6ca2-45ac-96a9-52e341ec519d",
   "metadata": {},
   "outputs": [],
   "source": [
    "%%capture --no-stderr\n",
    "%pip install --quiet -U langgraph-checkpoint-sqlite langchain_core langgraph langchain_openai"
   ]
  },
  {
   "cell_type": "code",
   "execution_count": 1,
   "id": "2e10c4d4",
   "metadata": {},
   "outputs": [],
   "source": [
    "import os, getpass, sys\n",
    "from langchain_anthropic import ChatAnthropic\n",
    "\n",
    "#Import API Keys(storing them all in a seperate file so i run into less issues with git)\n",
    "_root = \"/home/zjc1002/Mounts/code/\"\n",
    "_langsmith_trace = 'true'\n",
    "_langsmith_project = 'zjc_custom_v1'\n",
    "_anthropic_model = 'claude-3-haiku-20240307'\n",
    "_temparate = 0\n",
    "_max_tokens = 4000\n",
    "_streaming = True\n",
    "_system_message = None\n",
    "_db_path = \"/home/zjc1002/Mounts/data/langgraph_memory/state_db/example1.db\"\n",
    "# This is a basic config to enable tracing of conversations and  utilization of memory\n",
    "_config = {'configurable': {'thread_id':\"1\"}}\n",
    "\n",
    "# Custom functions\n",
    "sys.path.append(_root)\n",
    "from  admin.api_keys import _api_keys\n",
    "from admin.sys_ops import _set_env\n",
    "from langgraph_projects.tools import get_weather, get_date, multiply, add, divide\n",
    "\n",
    "# This anthropic and internet tool requires  API key to be set as a environment variable(s)\n",
    "for api_key in [\"TAVILY_API_KEY\",\"ANTHROPIC_API_KEY\",'OPENAI_API_KEY','LANGSMITH_API_KEY']:\n",
    "    _set_env(api_key\n",
    "            ,value =  _api_keys[api_key])"
   ]
  },
  {
   "cell_type": "markdown",
   "id": "b40d25c0-e9b5-4854-bf07-3cc3ff07122e",
   "metadata": {},
   "source": [
    "## Sqlite\n",
    "\n",
    "A good starting point here is the [SqliteSaver checkpointer](https://langchain-ai.github.io/langgraph/concepts/low_level/#checkpointer).\n",
    "\n",
    "Sqlite is a [small, fast, highly popular](https://x.com/karpathy/status/1819490455664685297) SQL database. \n",
    " \n",
    "If we supply `\":memory:\"` it creates an in-memory Sqlite database."
   ]
  },
  {
   "cell_type": "code",
   "execution_count": null,
   "id": "fae15402-17ae-4e89-8ecf-4c89e08b22fe",
   "metadata": {},
   "outputs": [],
   "source": [
    "import sqlite3\n",
    "# In memory\n",
    "conn = sqlite3.connect(\":memory:\", check_same_thread = False)"
   ]
  },
  {
   "cell_type": "markdown",
   "id": "c2bf53ec-6d4a-42ce-8183-344795eed403",
   "metadata": {},
   "source": [
    "But, if we supply a db path, then it will create a database for us!"
   ]
  },
  {
   "cell_type": "code",
   "execution_count": 3,
   "id": "58339167-920c-4994-a0a7-0a9c5d4f7cf7",
   "metadata": {},
   "outputs": [],
   "source": [
    "# pull file if it doesn't exist and connect to local db\n",
    "#!mkdir -p state_db && [ ! -f state_db/example.db ] && wget -P state_db https://github.com/langchain-ai/langchain-academy/raw/main/module-2/state_db/example.db\n",
    "#db_path = \"state_db/example.db\"\n",
    "conn = sqlite3.connect(_db_path, check_same_thread=False)"
   ]
  },
  {
   "cell_type": "code",
   "execution_count": 4,
   "id": "3c7736b6-a750-48f8-a838-8e7616b12250",
   "metadata": {},
   "outputs": [],
   "source": [
    "# Here is our checkpointer \n",
    "from langgraph.checkpoint.sqlite import SqliteSaver\n",
    "memory = SqliteSaver(conn)"
   ]
  },
  {
   "cell_type": "markdown",
   "id": "9d8cb629-213f-4b87-965e-19b812c42da1",
   "metadata": {},
   "source": [
    "Let's re-define our chatbot."
   ]
  },
  {
   "cell_type": "code",
   "execution_count": 5,
   "id": "dc414e29-2078-41a0-887c-af1a6a3d72c0",
   "metadata": {},
   "outputs": [],
   "source": [
    "from langchain_openai import ChatOpenAI\n",
    "from langchain_anthropic import ChatAnthropic\n",
    "from langchain_core.messages import SystemMessage, HumanMessage, RemoveMessage\n",
    "\n",
    "from langgraph.graph import END\n",
    "from langgraph.graph import MessagesState\n",
    "from typing import Dict, Literal, Optional\n",
    "\n",
    "# Define LLM with bound tools\n",
    "model = ChatAnthropic(\n",
    "    model=_anthropic_model,\n",
    "    temperature=_temparate,\n",
    "    max_tokens=_max_tokens,\n",
    "    streaming=_streaming,\n",
    "    verbose=True,\n",
    ")\n",
    "\n",
    "\n",
    "class State(MessagesState):\n",
    "    summary: str\n",
    "\n",
    "# Define the logic to call the model\n",
    "def call_model(state: State)-> Dict[str, str]:\n",
    "    \"\"\"check if summary exists and add it to the system message\n",
    "    and append it to the messages. Then call the model with the messages.\n",
    "    or if no summary exists, just call the model with the messages.\n",
    "\n",
    "    Args:\n",
    "        state (State):  this is the state of the conversation\n",
    "\n",
    "    Returns:\n",
    "        Dict[str, str]:  this is the response from the model\n",
    "    \"\"\"\n",
    "\n",
    "    # Get summary if it exists\n",
    "    summary = state.get(\"summary\", \"\")\n",
    "\n",
    "    # If there is summary, then we add it\n",
    "    if summary:\n",
    "        \n",
    "        # Add summary to system message\n",
    "        system_message = f\"Summary of conversation earlier: {summary}\"\n",
    "\n",
    "        # Append summary to any newer messages\n",
    "        messages = [SystemMessage(content=system_message)] + state[\"messages\"]\n",
    "    \n",
    "    else:\n",
    "        messages = state[\"messages\"]\n",
    "    \n",
    "    response = model.invoke(messages)\n",
    "    return {\"messages\": response}\n",
    "\n",
    "def summarize_conversation(state: State):\n",
    "    \n",
    "    # First, we get any existing summary\n",
    "    summary = state.get(\"summary\", \"\")\n",
    "\n",
    "    # Create our summarization prompt \n",
    "    if summary:\n",
    "        \n",
    "        # A summary already exists\n",
    "        summary_message = (\n",
    "            f\"This is summary of the conversation to date: {summary}\\n\\n\"\n",
    "            \"Extend the summary by taking into account the new messages above:\"\n",
    "        )\n",
    "        \n",
    "    else:\n",
    "        summary_message = \"Create a summary of the conversation above:\"\n",
    "\n",
    "    # Add prompt to our history\n",
    "    messages = state[\"messages\"] + [HumanMessage(content=summary_message)]\n",
    "    response = model.invoke(messages)\n",
    "    \n",
    "    # Delete all but the 2 most recent messages\n",
    "    delete_messages = [RemoveMessage(id=m.id) for m in state[\"messages\"][:-2]]\n",
    "    return {\"summary\": response.content, \"messages\": delete_messages}\n",
    "\n",
    "# Determine whether to end or summarize the conversation\n",
    "def should_continue(state: State)-> Literal[\"summarize_conversation\", \"__end__\"]:\n",
    "    \n",
    "    \"\"\"Return the next node to execute.\"\"\"\n",
    "    \n",
    "    messages = state[\"messages\"]\n",
    "    \n",
    "    # If there are more than six messages, then we summarize the conversation\n",
    "    if len(messages) > 6:\n",
    "        return \"summarize_conversation\"\n",
    "    \n",
    "    # Otherwise we can just end\n",
    "    return \"__end__\""
   ]
  },
  {
   "cell_type": "markdown",
   "id": "41c13c0b-a383-4f73-9cc1-63f0eed8f190",
   "metadata": {},
   "source": [
    "Now, we just re-compile with our sqlite checkpointer."
   ]
  },
  {
   "cell_type": "code",
   "execution_count": 6,
   "id": "e867fd95-91eb-4ce1-82fc-bb72d611a96d",
   "metadata": {},
   "outputs": [
    {
     "data": {
      "image/png": "[encoded data removed]",
      "text/plain": [
       "<IPython.core.display.Image object>"
      ]
     },
     "metadata": {},
     "output_type": "display_data"
    }
   ],
   "source": [
    "from IPython.display import Image, display\n",
    "from langgraph.graph import StateGraph, START\n",
    "\n",
    "# Define a new graph\n",
    "workflow = StateGraph(State)\n",
    "workflow.add_node(\"conversation\", call_model)\n",
    "workflow.add_node(summarize_conversation)\n",
    "\n",
    "# Set the entrypoint as conversation\n",
    "workflow.add_edge(START, \"conversation\")\n",
    "workflow.add_conditional_edges(\"conversation\"\n",
    "                               , should_continue\n",
    "                               , {\n",
    "                                   \"summarize_conversation\": \"summarize_conversation\",\n",
    "                                   \"__end__\": END\n",
    "                               })\n",
    "                               \n",
    "workflow.add_edge(\"summarize_conversation\", END)\n",
    "\n",
    "# Compile\n",
    "graph = workflow.compile(checkpointer=memory)\n",
    "display(Image(graph.get_graph().draw_mermaid_png()))"
   ]
  },
  {
   "cell_type": "markdown",
   "id": "8769db99-3938-45e6-a594-56beb18d6c45",
   "metadata": {},
   "source": [
    "Now, we can invoke the graph several times. "
   ]
  },
  {
   "cell_type": "code",
   "execution_count": 7,
   "id": "0f4094a0-d240-4be8-903a-7d9f605bdc5c",
   "metadata": {},
   "outputs": [
    {
     "name": "stdout",
     "output_type": "stream",
     "text": [
      "==================================\u001b[1m Ai Message \u001b[0m==================================\n",
      "\n",
      "Okay, got it - your name is Lance. It's nice to meet you again, Lance! I'm always happy to chat about sports or any other topics you're interested in. What do you enjoy most about being a 49ers fan?\n",
      "==================================\u001b[1m Ai Message \u001b[0m==================================\n",
      "\n",
      "Your name is Lance. That's what you introduced yourself as at the beginning of our conversation.\n",
      "==================================\u001b[1m Ai Message \u001b[0m==================================\n",
      "\n",
      "Ah yes, you mentioned earlier that you are a fan of the 49ers. That's great! The 49ers have a rich history and passionate fanbase. What do you enjoy most about following the team? Do you have a favorite player or memorable moment as a 49ers fan?\n"
     ]
    }
   ],
   "source": [
    "# Create a thread\n",
    "config = {\"configurable\": {\"thread_id\": \"1\"}}\n",
    "\n",
    "# Start conversation\n",
    "input_message = HumanMessage(content=\"hi! I'm Lance\")\n",
    "output = graph.invoke({\"messages\": [input_message]}, config) \n",
    "for m in output['messages'][-1:]:\n",
    "    m.pretty_print()\n",
    "\n",
    "input_message = HumanMessage(content=\"what's my name?\")\n",
    "output = graph.invoke({\"messages\": [input_message]}, config) \n",
    "for m in output['messages'][-1:]:\n",
    "    m.pretty_print()\n",
    "\n",
    "input_message = HumanMessage(content=\"i like the 49ers!\")\n",
    "output = graph.invoke({\"messages\": [input_message]}, config) \n",
    "for m in output['messages'][-1:]:\n",
    "    m.pretty_print()"
   ]
  },
  {
   "cell_type": "markdown",
   "id": "c0f3e842-4497-45e2-a924-69672a9bcb33",
   "metadata": {},
   "source": [
    "Let's confirm that our state is saved locally."
   ]
  },
  {
   "cell_type": "code",
   "execution_count": 8,
   "id": "d2ab158a-5a82-417a-8841-730a4cc18ea7",
   "metadata": {},
   "outputs": [
    {
     "data": {
      "text/plain": [
       "StateSnapshot(values={'messages': [HumanMessage(content=\"hi! I'm Lance\", additional_kwargs={}, response_metadata={}, id='05779117-169b-4726-adc4-e31981ccb08f'), AIMessage(content=\"Okay, got it - your name is Lance. It's nice to meet you again, Lance! I'm always happy to chat about sports or any other topics you're interested in. What do you enjoy most about being a 49ers fan?\", additional_kwargs={}, response_metadata={'model_name': 'claude-3-haiku-20240307', 'stop_reason': 'end_turn', 'stop_sequence': None}, id='run--5b617221-3176-4ed5-b5da-a8405d2b4a22-0', usage_metadata={'input_tokens': 154, 'output_tokens': 60, 'total_tokens': 214, 'input_token_details': {'cache_creation': 0, 'cache_read': 0}}), HumanMessage(content=\"what's my name?\", additional_kwargs={}, response_metadata={}, id='2f508d4b-0516-495c-ad6f-eb568b5a58bd'), AIMessage(content=\"Your name is Lance. That's what you introduced yourself as at the beginning of our conversation.\", additional_kwargs={}, response_metadata={'model_name': 'claude-3-haiku-20240307', 'stop_reason': 'end_turn', 'stop_sequence': None}, id='run--729ab20d-a944-48f5-8036-26db5f1d6299-0', usage_metadata={'input_tokens': 256, 'output_tokens': 23, 'total_tokens': 279, 'input_token_details': {'cache_creation': 0, 'cache_read': 0}}), HumanMessage(content='i like the 49ers!', additional_kwargs={}, response_metadata={}, id='d448ed44-dca8-4bc9-a858-60ada9540d76'), AIMessage(content=\"Ah yes, you mentioned earlier that you are a fan of the 49ers. That's great! The 49ers have a rich history and passionate fanbase. What do you enjoy most about following the team? Do you have a favorite player or memorable moment as a 49ers fan?\", additional_kwargs={}, response_metadata={'model_name': 'claude-3-haiku-20240307', 'stop_reason': 'end_turn', 'stop_sequence': None}, id='run--a1576a03-c150-433d-9d3b-a31dc03011b0-0', usage_metadata={'input_tokens': 288, 'output_tokens': 66, 'total_tokens': 354, 'input_token_details': {'cache_creation': 0, 'cache_read': 0}})], 'summary': 'Here is a summary of the conversation so far:\\n\\nThe conversation began with you introducing yourself as Lance. I then introduced myself as Claude, an AI assistant. \\n\\nYou expressed that you are a fan of the 49ers football team. I acknowledged this and asked if you had a favorite player or moment as a 49ers fan.\\n\\nYou then repeated that your name is Lance, even though I had already established that in the initial part of the conversation.\\n\\nOverall, the key points are:\\n- You introduced yourself as Lance\\n- You shared that you are a 49ers fan\\n- I engaged with you about your fandom and asked follow-up questions\\n- You reiterated your name at the end, even though it had already been established\\n\\nPlease let me know if you would like me to clarify or expand on anything in this summary.'}, next=(), config={'configurable': {'thread_id': '1', 'checkpoint_ns': '', 'checkpoint_id': '1f031c0c-55f1-673d-8011-f4952ba06e8b'}}, metadata={'source': 'loop', 'writes': {'conversation': {'messages': AIMessage(content=\"Ah yes, you mentioned earlier that you are a fan of the 49ers. That's great! The 49ers have a rich history and passionate fanbase. What do you enjoy most about following the team? Do you have a favorite player or memorable moment as a 49ers fan?\", additional_kwargs={}, response_metadata={'model_name': 'claude-3-haiku-20240307', 'stop_reason': 'end_turn', 'stop_sequence': None}, id='run--a1576a03-c150-433d-9d3b-a31dc03011b0-0', usage_metadata={'input_tokens': 288, 'output_tokens': 66, 'total_tokens': 354, 'input_token_details': {'cache_creation': 0, 'cache_read': 0}})}}, 'step': 17, 'parents': {}, 'thread_id': '1'}, created_at='2025-05-15T19:14:06.331018+00:00', parent_config={'configurable': {'thread_id': '1', 'checkpoint_ns': '', 'checkpoint_id': '1f031c0c-4cad-6fdf-8010-47da2ce31b63'}}, tasks=(), interrupts=())"
      ]
     },
     "execution_count": 8,
     "metadata": {},
     "output_type": "execute_result"
    }
   ],
   "source": [
    "config = {\"configurable\": {\"thread_id\": \"1\"}}\n",
    "graph_state = graph.get_state(config)\n",
    "\n",
    "\n",
    "graph_state"
   ]
  },
  {
   "cell_type": "markdown",
   "id": "1e21152d-ed9c-408d-b7d5-f634c9ce81e2",
   "metadata": {},
   "source": [
    "### Persisting state\n",
    "\n",
    "Using database like Sqlite means state is persisted! \n",
    "\n",
    "For example, we can re-start the notebook kernel and see that we can still load from Sqlite DB on disk.\n"
   ]
  },
  {
   "cell_type": "code",
   "execution_count": 9,
   "id": "b9a44dc5-be04-45fa-a6fc-27b0f8ee4678",
   "metadata": {},
   "outputs": [
    {
     "data": {
      "text/plain": [
       "[{'messages': [HumanMessage(content=\"hi! I'm Lance\", additional_kwargs={}, response_metadata={}, id='05779117-169b-4726-adc4-e31981ccb08f'),\n",
       "   AIMessage(content=\"Okay, got it - your name is Lance. It's nice to meet you again, Lance! I'm always happy to chat about sports or any other topics you're interested in. What do you enjoy most about being a 49ers fan?\", additional_kwargs={}, response_metadata={'model_name': 'claude-3-haiku-20240307', 'stop_reason': 'end_turn', 'stop_sequence': None}, id='run--5b617221-3176-4ed5-b5da-a8405d2b4a22-0', usage_metadata={'input_tokens': 154, 'output_tokens': 60, 'total_tokens': 214, 'input_token_details': {'cache_creation': 0, 'cache_read': 0}}),\n",
       "   HumanMessage(content=\"what's my name?\", additional_kwargs={}, response_metadata={}, id='2f508d4b-0516-495c-ad6f-eb568b5a58bd'),\n",
       "   AIMessage(content=\"Your name is Lance. That's what you introduced yourself as at the beginning of our conversation.\", additional_kwargs={}, response_metadata={'model_name': 'claude-3-haiku-20240307', 'stop_reason': 'end_turn', 'stop_sequence': None}, id='run--729ab20d-a944-48f5-8036-26db5f1d6299-0', usage_metadata={'input_tokens': 256, 'output_tokens': 23, 'total_tokens': 279, 'input_token_details': {'cache_creation': 0, 'cache_read': 0}}),\n",
       "   HumanMessage(content='i like the 49ers!', additional_kwargs={}, response_metadata={}, id='d448ed44-dca8-4bc9-a858-60ada9540d76'),\n",
       "   AIMessage(content=\"Ah yes, you mentioned earlier that you are a fan of the 49ers. That's great! The 49ers have a rich history and passionate fanbase. What do you enjoy most about following the team? Do you have a favorite player or memorable moment as a 49ers fan?\", additional_kwargs={}, response_metadata={'model_name': 'claude-3-haiku-20240307', 'stop_reason': 'end_turn', 'stop_sequence': None}, id='run--a1576a03-c150-433d-9d3b-a31dc03011b0-0', usage_metadata={'input_tokens': 288, 'output_tokens': 66, 'total_tokens': 354, 'input_token_details': {'cache_creation': 0, 'cache_read': 0}})],\n",
       "  'summary': 'Here is a summary of the conversation so far:\\n\\nThe conversation began with you introducing yourself as Lance. I then introduced myself as Claude, an AI assistant. \\n\\nYou expressed that you are a fan of the 49ers football team. I acknowledged this and asked if you had a favorite player or moment as a 49ers fan.\\n\\nYou then repeated that your name is Lance, even though I had already established that in the initial part of the conversation.\\n\\nOverall, the key points are:\\n- You introduced yourself as Lance\\n- You shared that you are a 49ers fan\\n- I engaged with you about your fandom and asked follow-up questions\\n- You reiterated your name at the end, even though it had already been established\\n\\nPlease let me know if you would like me to clarify or expand on anything in this summary.'},\n",
       " (),\n",
       " {'configurable': {'thread_id': '1',\n",
       "   'checkpoint_ns': '',\n",
       "   'checkpoint_id': '1f031c0c-55f1-673d-8011-f4952ba06e8b'}},\n",
       " {'source': 'loop',\n",
       "  'writes': {'conversation': {'messages': AIMessage(content=\"Ah yes, you mentioned earlier that you are a fan of the 49ers. That's great! The 49ers have a rich history and passionate fanbase. What do you enjoy most about following the team? Do you have a favorite player or memorable moment as a 49ers fan?\", additional_kwargs={}, response_metadata={'model_name': 'claude-3-haiku-20240307', 'stop_reason': 'end_turn', 'stop_sequence': None}, id='run--a1576a03-c150-433d-9d3b-a31dc03011b0-0', usage_metadata={'input_tokens': 288, 'output_tokens': 66, 'total_tokens': 354, 'input_token_details': {'cache_creation': 0, 'cache_read': 0}})}},\n",
       "  'step': 17,\n",
       "  'parents': {},\n",
       "  'thread_id': '1'},\n",
       " '2025-05-15T19:14:06.331018+00:00',\n",
       " {'configurable': {'thread_id': '1',\n",
       "   'checkpoint_ns': '',\n",
       "   'checkpoint_id': '1f031c0c-4cad-6fdf-8010-47da2ce31b63'}},\n",
       " (),\n",
       " ()]"
      ]
     },
     "execution_count": 9,
     "metadata": {},
     "output_type": "execute_result"
    }
   ],
   "source": [
    "# Create a thread\n",
    "config = {\"configurable\": {\"thread_id\": \"1\"}}\n",
    "graph_state = graph.get_state(config)\n",
    "list(graph_state)\n"
   ]
  },
  {
   "cell_type": "markdown",
   "id": "8466e418-1a46-4cdb-a51a-6ae14281bb85",
   "metadata": {},
   "source": [
    "## LangGraph Studio\n",
    "\n",
    "**⚠️ DISCLAIMER**\n",
    "\n",
    "Since the filming of these videos, we've updated Studio so that it can be run locally and opened in your browser. This is now the preferred way to run Studio (rather than using the Desktop App as shown in the video). See documentation [here](https://langchain-ai.github.io/langgraph/concepts/langgraph_studio/#local-development-server) on the local development server and [here](https://langchain-ai.github.io/langgraph/how-tos/local-studio/#run-the-development-server). To start the local development server, run the following command in your terminal in the `/studio` directory in this module:\n",
    "\n",
    "```\n",
    "langgraph dev\n",
    "```\n",
    "\n",
    "You should see the following output:\n",
    "```\n",
    "- 🚀 API: http://127.0.0.1:2024\n",
    "- 🎨 Studio UI: https://smith.langchain.com/studio/?baseUrl=http://127.0.0.1:2024\n",
    "- 📚 API Docs: http://127.0.0.1:2024/docs\n",
    "```\n",
    "\n",
    "Open your browser and navigate to the Studio UI: `https://smith.langchain.com/studio/?baseUrl=http://127.0.0.1:2024`."
   ]
  },
  {
   "cell_type": "markdown",
   "id": "c4916d8b",
   "metadata": {},
   "source": []
  }
 ],
 "metadata": {
  "kernelspec": {
   "display_name": "langy3",
   "language": "python",
   "name": "python3"
  },
  "language_info": {
   "codemirror_mode": {
    "name": "ipython",
    "version": 3
   },
   "file_extension": ".py",
   "mimetype": "text/x-python",
   "name": "python",
   "nbconvert_exporter": "python",
   "pygments_lexer": "ipython3",
   "version": "3.11.9"
  }
 },
 "nbformat": 4,
 "nbformat_minor": 5
}
