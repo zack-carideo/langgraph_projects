{
 "cells": [
  {
   "cell_type": "markdown",
   "metadata": {},
   "source": [
    "### LangGraph Basics Overview\n",
    "\n",
    "- Tutorial: [langgraph basics](https://langchain-ai.github.io/langgraph/tutorials/introduction/)"
   ]
  },
  {
   "cell_type": "code",
   "execution_count": null,
   "metadata": {},
   "outputs": [],
   "source": [
    "import os, sys, getpass\n",
    "from anthropic import Anthropic\n",
    "from langchain_anthropic import ChatAnthropic\n",
    "\n",
    "#Import API Keys        \n",
    "_root = \"/home/zjc1002/Mounts/code/admin/\"\n",
    "sys.path.append(_root)\n",
    "from api_keys import _api_keys\n",
    "\n",
    "#set Environment Variables \n",
    "def _set_env(var: str,value: str = None):\n",
    "    if not os.environ.get(var):\n",
    "        os.environ[var] = value\n",
    "        #getpass.getpass(f\"{var}: \")"
   ]
  },
  {
   "cell_type": "code",
   "execution_count": 14,
   "metadata": {},
   "outputs": [
    {
     "name": "stdout",
     "output_type": "stream",
     "text": [
      "Model ID: claude-3-7-sonnet-20250219\n",
      "Model ID: claude-3-5-sonnet-20241022\n",
      "Model ID: claude-3-5-haiku-20241022\n",
      "Model ID: claude-3-5-sonnet-20240620\n",
      "Model ID: claude-3-haiku-20240307\n",
      "Model ID: claude-3-opus-20240229\n",
      "Model ID: claude-3-sonnet-20240229\n",
      "Model ID: claude-2.1\n",
      "Model ID: claude-2.0\n"
     ]
    }
   ],
   "source": [
    "#SET ANTHROPIC API KEY ENV VAR\n",
    "_set_env(\"ANTHROPIC_API_KEY\"\n",
    "         ,value =  _api_keys['ANTHROPIC_API_KEY'])\n",
    "\n",
    "\n",
    "# Initialize the Anthropic client\n",
    "client = Anthropic(api_key=_api_keys['ANTHROPIC_API_KEY'])\n",
    "\n",
    "# Get available models\n",
    "available_models = client.models.list()\n",
    "\n",
    "# Print the available models\n",
    "for model in available_models.data:\n",
    "    print(f\"Model ID: {model.id}\")\n",
    "\n",
    "    # The context_window property contains the maximum number of tokens\n",
    "    if hasattr(model, 'context_window'):\n",
    "        print(f\"Max context length: {model.context_window} tokens\")"
   ]
  },
  {
   "cell_type": "markdown",
   "metadata": {},
   "source": [
    "### Select LLM TO  use in chatbot"
   ]
  },
  {
   "cell_type": "code",
   "execution_count": 15,
   "metadata": {},
   "outputs": [],
   "source": [
    "#load model to use in chatbot (use tiny model that is cheap)\n",
    "_model_id = \"claude-3-haiku-20240307\""
   ]
  },
  {
   "cell_type": "markdown",
   "metadata": {},
   "source": [
    "### **Part 1: Build simple chatbot**"
   ]
  },
  {
   "cell_type": "markdown",
   "metadata": {},
   "source": [
    "##### A. Create a ***StateGraph***. A StateGraph object defines the structure of our chatbot as a \"state machine\". \n",
    "  - **Nodes**  represent the llm and functions our chatbot can call \n",
    "    - *Nodes represent units of work, they are typically regular python functions*\n",
    "  - **Edges**  specify how the bot should transition between these functions.\n",
    "\n",
    "\n",
    "***Note:*** *the Graph State includes the graphs SCHEMA and REDUCER FUNCTIONS  which handel state updates.* **add_messages()** is the reducer function used in this example to append new messages to the list instead of replacing them. Keys without a reducer annotation will overwrite previous values  \n",
    "\n",
    "##### B. Add a chatbot Node to StateGraph()\n",
    " - The **chatbot node** function takes the current State as input and returns a dictionary containing an updated messages list under the key \"messages\". **This is the basic pattern for all LangGraph node functions.**\n"
   ]
  },
  {
   "cell_type": "code",
   "execution_count": 16,
   "metadata": {},
   "outputs": [
    {
     "data": {
      "image/png": "[encoded data removed]",
      "text/plain": [
       "<IPython.core.display.Image object>"
      ]
     },
     "metadata": {},
     "output_type": "display_data"
    }
   ],
   "source": [
    "from typing import Annotated\n",
    "from typing_extensions import TypedDict\n",
    "from langgraph.graph import StateGraph, START, END\n",
    "from langgraph.graph.message import add_messages\n",
    "from langchain_core.runnables import RunnableConfig\n",
    "\n",
    "class State(TypedDict):\n",
    "    # Messages have the type \"list\". The `add_messages` function\n",
    "    # in the annotation defines how this state key should be updated\n",
    "    # in this case we use the reducer function add_messages to  append messages to the list, rather than overwriting them\n",
    "    messages: Annotated[list, add_messages]\n",
    "\n",
    "#define config schemea to use to pass configurable parameters in your API \n",
    "#as example i add a string paramter that will be prefixed to each message (not a good idea, but illistrates how to use config)\n",
    "class ConifgSchema(TypedDict):\n",
    "    prefix: str \n",
    "\n",
    "\n",
    "#basic state\n",
    "# The state is a dictionary that contains the current state of the graph\n",
    "# the config contains paramters you want to pass to the node operations\n",
    "graph_builder = StateGraph(State, config_schema=ConifgSchema)\n",
    "\n",
    "\n",
    "### Add a chatbot Node to the graph\n",
    "llm = ChatAnthropic(model=_model_id)\n",
    "\n",
    "# Note: the chatbot node function takes the current State as input and returns a dictionary containing an updated messages list under the key \"messages\". **This is the basic pattern for all LangGraph node functions.**\n",
    "def chatbot(state: State, config: RunnableConfig)-> dict:\n",
    "    prefix = config['configurable'].get(\"prefix\",\"\")\n",
    "    _message = llm.invoke(state[\"messages\"])\n",
    "    \n",
    "    return {\"messages\": [_message]}\n",
    "\n",
    "# The first argument is the unique node name\n",
    "# The second argument is the function or object that will be called whenever the node is used.\n",
    "graph_builder.add_node(\"chatbot\", chatbot)\n",
    "\n",
    "\n",
    "#Next, add an entry point. This tells our graph where to start its work each time we run it.\n",
    "graph_builder.add_edge(START, \"chatbot\")\n",
    "\n",
    "#set an exit point. This tells the graph \"any time this node is run, you can exit.\"\n",
    "graph_builder.add_edge(\"chatbot\", END)\n",
    "\n",
    "# Finally, we compile the graph. This will check for any errors in the graph and prepare it for use. This creates a new class that we can use to run the graph.\n",
    "# The compiled graph is a subclass of the original graph builder, so we can still use the same methods.\n",
    "# The compiled graph will have a new name, so we can use it to run the graph.\n",
    "# This will also create a new class that we can use to run the graph.\n",
    "graph = graph_builder.compile() \n",
    "\n",
    "from IPython.display import Image, display\n",
    "\n",
    "try:\n",
    "    display(Image(graph.get_graph().draw_mermaid_png()))\n",
    "except Exception:\n",
    "    # This requires some extra dependencies and is optional\n",
    "    pass"
   ]
  },
  {
   "cell_type": "markdown",
   "metadata": {},
   "source": [
    "##### Run the Chatbot"
   ]
  },
  {
   "cell_type": "code",
   "execution_count": null,
   "metadata": {},
   "outputs": [
    {
     "name": "stdout",
     "output_type": "stream",
     "text": [
      "Assistant: I'm afraid I don't have enough context to determine who \"Mike\" is without more information. \"Mike\" could refer to a wide variety of people, as it is a common first name. Can you provide some additional details about who you are asking about? That would help me try to understand who the specific \"Mike\" you are referring to is.\n",
      "dict_keys(['id', 'model', 'stop_reason', 'stop_sequence', 'usage', 'model_name'])\n",
      "Message ID: msg_016ZjLXK7vY4Fpk4YcgLp576\n",
      "Model Used: claude-3-haiku-20240307\n",
      "Chat Stop Reason: end_turn\n",
      "Chat Stop Sequence: None\n",
      "Chat usage: {'cache_creation_input_tokens': 0, 'cache_read_input_tokens': 0, 'input_tokens': 11, 'output_tokens': 75}\n",
      "Goodbye!\n"
     ]
    }
   ],
   "source": [
    "def stream_graph_updates(user_input: str):\n",
    "    for event in graph.stream({\"messages\": [{\"role\": \"user\", \"content\": user_input}]}):\n",
    "        #import pdb;pdb.set_trace();\n",
    "        \n",
    "        for value in event.values():\n",
    "            print(\"Assistant:\", value[\"messages\"][-1].content)\n",
    "            print(value[\"messages\"][-1].response_metadata.keys())\n",
    "            print(f\"Message ID: {value['messages'][-1].response_metadata['id']}\")\n",
    "            print(f\"Model Used: {value['messages'][-1].response_metadata['model']}\")\n",
    "            print(f\"Chat Stop Reason: {value['messages'][-1].response_metadata['stop_reason']}\")\n",
    "            print(f\"Chat Stop Sequence: {value['messages'][-1].response_metadata['stop_sequence']}\")\n",
    "            print(f\"Chat usage: {value['messages'][-1].response_metadata['usage']}\")\n",
    "\n",
    "# This is a simple loop to get user input and stream the graph updates\n",
    "while True:\n",
    "    try:\n",
    "        user_input = input(\"User: \")\n",
    "        if user_input.lower() in [\"quit\", \"exit\", \"q\"]:\n",
    "            print(\"Goodbye!\")\n",
    "            break\n",
    "        stream_graph_updates(user_input)\n",
    "    except:\n",
    "        # fallback if input() is not available\n",
    "        user_input = \"What do you know about LangGraph?\"\n",
    "        print(\"User: \" + user_input)\n",
    "        stream_graph_updates(user_input)\n",
    "        break"
   ]
  },
  {
   "cell_type": "markdown",
   "metadata": {},
   "source": [
    "### **Part 2: Enhance Chatbot with Tools**\n",
    " 1. Specify tavily api key (tavily is used to search internet like google but designed for llms)\n",
    " 2. Define the tool TavilySearchResults to inovke \n",
    " 3. Rebuild the chatbot from parrt one with **bind_tools** added to the llm. (this tells llm how to format json get/post requests when using the tavily search api)\n",
    " 4. Add tools to a new node in the **STATEGRAPH** to create function to run tools if called \n",
    "    - ***BasicToolNode*** is a class that checks the most recent message in the ***STATE*** instance and calls tools if the message contains **tool_calls**. Langchain provides a prebuilt ***ToolNode*** class to abstract this if building from scratch is to painful\n",
    " 5. Define ***conditional edges*** to route the contorl flow from one note to another. *Conditional Edges* usually ocntain  'if' statements to route to different nodes depending on the current graph state.  These functions receive the current graph state and return a string or list of strings indicating which node(s) to call next.\n",
    "    - Note: the prebuilt *tools_condition()* method should be used in production , we define our tool router manually for instructive purposes\n"
   ]
  },
  {
   "cell_type": "code",
   "execution_count": 26,
   "metadata": {},
   "outputs": [
    {
     "name": "stdout",
     "output_type": "stream",
     "text": [
      "<b>THIS IS A TEST TO SHOW FORMAT OF TAVILY RESPONSE:</b> \n",
      "\n",
      "[{'title': 'Zachary Carideo - Lead Data Scientist (Machine Learning Center of ...', 'url': 'https://www.zoominfo.com/p/Zachary-Carideo/-2145059615', 'content': 'Zachary Carideo is a Lead Data Scientist (Machine Learning Center of Excellence) at Wells Fargo based in San Francisco, California. Previously, Zachary was', 'score': 0.8812988}, {'title': 'Zachary Carideo Email & Phone Number | Wells Fargo - ContactOut', 'url': 'https://contactout.com/Zachary-Carideo-27251321', 'content': \"What is Zachary Carideo's role at Wells Fargo? Zachary Carideo is Lead Data Scientist (Machine Learning Center of Excellence). What is Zachary Carideo's Phone\", 'score': 0.8548001}]\n"
     ]
    }
   ],
   "source": [
    "from langchain_community.tools.tavily_search import TavilySearchResults\n",
    "\n",
    "# This tool requires an API key to be set in the environment variable TAVILY_API_KEY\n",
    "_set_env(\"TAVILY_API_KEY\"\n",
    "         ,value =  _api_keys['TAVILY_API_KEY'])\n",
    "\n",
    "#DEFINE THE TOOL \n",
    "tool = TavilySearchResults(max_results=2)\n",
    "tools = [tool]\n",
    "\n",
    "# The tool will return a dictionary with the results\n",
    "print(f\"<b>THIS IS A TEST TO SHOW FORMAT OF TAVILY RESPONSE:</b> \\n\\n{tool.invoke('who is zachary carideo?')}\")"
   ]
  },
  {
   "cell_type": "code",
   "execution_count": 28,
   "metadata": {},
   "outputs": [
    {
     "data": {
      "text/plain": [
       "<langgraph.graph.state.StateGraph at 0x7f0db3cb9150>"
      ]
     },
     "execution_count": 28,
     "metadata": {},
     "output_type": "execute_result"
    }
   ],
   "source": [
    "import json \n",
    "from langchain_core.messages import ToolMessage\n",
    "from typing_extensions import TypedDict\n",
    "\n",
    "#DEFINE THE GRAPH \n",
    "\n",
    "#SAME AS PT 1\n",
    "class State(TypedDict):\n",
    "    messages: Annotated[list, add_messages]\n",
    "\n",
    "\n",
    "class ConifgSchema(TypedDict):\n",
    "    use_tavily: bool \n",
    "\n",
    "\n",
    "graph_builder = StateGraph(State)\n",
    "llm = ChatAnthropic(model=_model_id)\n",
    "\n",
    "\n",
    "# NEW TO PART2\n",
    "# Modification: tell the LLM which tools it can call\n",
    "llm_with_tools = llm.bind_tools(tools)\n",
    "\n",
    "\n",
    "# Note: the chatbot node function takes the current State as input and returns a dictionary containing \n",
    "# an updated messages list under the key \"messages\". **This is the basic pattern for all LangGraph node functions.\n",
    "# NOTE: here you  can use the  config to pass parameters into the tools you are calling (here Tavily Search parameters)\n",
    "def chatbot(state: State, config: RunnableConfig)-> dict:\n",
    "    _use_internet = config['configurable'].get(\"use_tavily\",False)\n",
    "    _message = llm_with_tools.invoke(state[\"messages\"])\n",
    "    return {\"messages\": [_message]}\n",
    "\n",
    "\n",
    "graph_builder.add_node(\"chatbot\", chatbot)\n",
    "\n",
    "\n",
    "# Add a BasicToolNode that checks the most recent message in the state and calls tools if the message contains tool_calls. \n",
    "# It relies on the LLM's tool_calling support, which is available in Anthropic, OpenAI, Google Gemini, and a number of other LLM providers.\n",
    "class BasicToolNode: \n",
    "\n",
    "    \"\"\"A node that runs the tools requested in the  last AIMessage\"\"\"\n",
    "\n",
    "    def __init__(self\n",
    "                 ,tools: list\n",
    "                 ) -> None: \n",
    "        \n",
    "        self.tools_by_name = {t.name: t for t in tools}\n",
    "    \n",
    "    def __call__(self,inputs: dict): \n",
    "\n",
    "        # Check the most recent message in the state and call tools if the message contains tool_calls\n",
    "        # check if the last message is a tool call\n",
    "        # if the last message is a tool call, run the tools\n",
    "        # if the last message is not a tool call, return the inputs\n",
    "\n",
    "        #Note: in python empty collections(like []) are considered False, while non-empty collections are considered True\n",
    "        if messages := inputs.get(\"messages\",[]): \n",
    "            message = messages[-1]\n",
    "            print(isinstance(message, ToolMessage))\n",
    "        else: \n",
    "            raise ValueError('No Messages Found in inputs')\n",
    "\n",
    "\n",
    "        outputs = []\n",
    "        for tool_call in message.tool_calls: \n",
    "            \n",
    "            #import pdb;pdb.set_trace();\n",
    "            #run the tool and get the result\n",
    "            tool_result = self.tools_by_name[tool_call['name']].invoke(tool_call['args']\n",
    "                                                                       )\n",
    "            #add the result to the outputs list\n",
    "            outputs.append(\n",
    "                ToolMessage(content=json.dumps(tool_result),\n",
    "                            name = tool_call['name'], \n",
    "                            tool_call_id = tool_call[\"id\"]\n",
    "                            )\n",
    "            )\n",
    "\n",
    "        return {'messages': outputs}\n",
    "\n",
    "\n",
    "tool_node = BasicToolNode(tools=[tool])\n",
    "graph_builder.add_node(\"tools\", tool_node)"
   ]
  },
  {
   "cell_type": "code",
   "execution_count": 29,
   "metadata": {},
   "outputs": [
    {
     "name": "stdout",
     "output_type": "stream",
     "text": [
      "Assistant: I'm afraid I don't have enough context to provide a meaningful response to just \"hello\". As an AI assistant, I'm designed to have natural conversations and provide helpful information to users. Could you please rephrase your request or provide more details about what you'd like assistance with? I'll be happy to try my best to help once I understand the specifics of your needs.\n",
      "dict_keys(['id', 'model', 'stop_reason', 'stop_sequence', 'usage', 'model_name'])\n",
      "Message ID: msg_01UiRVJW3nPC7ga1s9DZSVVX\n",
      "Model Used: claude-3-haiku-20240307\n",
      "Chat Stop Reason: end_turn\n",
      "Chat Stop Sequence: None\n",
      "Chat usage: {'cache_creation_input_tokens': 0, 'cache_read_input_tokens': 0, 'input_tokens': 368, 'output_tokens': 81}\n",
      "Goodbye!\n"
     ]
    }
   ],
   "source": [
    "def route_tools(\n",
    "    state: State,\n",
    "):\n",
    "    \"\"\"\n",
    "    Use in the conditional_edge to route to the ToolNode if the last message\n",
    "    has tool calls. Otherwise, route to the end.\n",
    "    \"\"\"\n",
    "\n",
    "    #get the message if it exists\n",
    "    if isinstance(state, list):\n",
    "        ai_message = state[-1]\n",
    "    elif messages := state.get(\"messages\", []):\n",
    "        ai_message = messages[-1]\n",
    "    else:\n",
    "        raise ValueError(f\"No messages found in input state to tool_edge: {state}\")\n",
    "    \n",
    "    #If message exists check if a tool has been referenced \n",
    "    if hasattr(ai_message, \"tool_calls\") and len(ai_message.tool_calls) > 0:\n",
    "        return \"tools\"\n",
    "    return END\n",
    "\n",
    "\n",
    "# The `tools_condition` function returns \"tools\" if the chatbot asks to use a tool, and \"END\" if\n",
    "# it is fine directly responding. This conditional routing defines the main agent loop.\n",
    "graph_builder.add_conditional_edges(\n",
    "    \"chatbot\",\n",
    "    route_tools,\n",
    "    # The following dictionary lets you tell the graph to interpret the condition's outputs as a specific node\n",
    "    # It defaults to the identity function, but if you\n",
    "    # want to use a node named something else apart from \"tools\",\n",
    "    # You can update the value of the dictionary to something else\n",
    "    # e.g., \"tools\": \"my_tools\"\n",
    "    {\"tools\": \"tools\"\n",
    "     , END: END},\n",
    ")\n",
    "# Any time a tool is called, we return to the chatbot to decide the next step\n",
    "graph_builder.add_edge(\"tools\", \"chatbot\")\n",
    "graph_builder.add_edge(START, \"chatbot\")\n",
    "graph = graph_builder.compile()\n",
    "\n",
    "try:\n",
    "    display(Image(graph.get_graph().draw_mermaid_png()))\n",
    "except Exception:\n",
    "    # This requires some extra dependencies and is optional\n",
    "    pass\n",
    "\n",
    "\n",
    "\n",
    "#RUN IT \n",
    "while True:\n",
    "    try:\n",
    "        user_input = input(\"User: \")\n",
    "        if user_input.lower() in [\"quit\", \"exit\", \"q\"]:\n",
    "            print(\"Goodbye!\")\n",
    "            break\n",
    "\n",
    "        stream_graph_updates(user_input)\n",
    "    except:\n",
    "        # fallback if input() is not available\n",
    "        user_input = \"What do you know about LangGraph?\"\n",
    "        print(\"User: \" + user_input)\n",
    "        stream_graph_updates(user_input)\n",
    "        break"
   ]
  }
 ],
 "metadata": {
  "kernelspec": {
   "display_name": "langy3",
   "language": "python",
   "name": "python3"
  },
  "language_info": {
   "codemirror_mode": {
    "name": "ipython",
    "version": 3
   },
   "file_extension": ".py",
   "mimetype": "text/x-python",
   "name": "python",
   "nbconvert_exporter": "python",
   "pygments_lexer": "ipython3",
   "version": "3.11.9"
  }
 },
 "nbformat": 4,
 "nbformat_minor": 2
}
