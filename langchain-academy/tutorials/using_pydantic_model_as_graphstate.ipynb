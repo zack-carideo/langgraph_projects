{
 "cells": [
  {
   "cell_type": "markdown",
   "id": "561bc149",
   "metadata": {},
   "source": [
    "## Using Pydantic Model as Graphs state_schema to enforce input type validation at runtime\n",
    "\n"
   ]
  },
  {
   "cell_type": "markdown",
   "id": "56eee1bd",
   "metadata": {},
   "source": [
    "A StateGraph accepts a state_schema argument on initialization that specifies the \"shape\" of the state that the nodes in the graph can access and update. Pydantic's BaseModel can be used for state_schema to add run time validation on inputs *(Note:traditionally a not intelligent TypedDict or list(for MessageGraph) is used in langchains examples)*\n",
    "\n",
    "Reference: https://langchain-ai.github.io/langgraph/how-tos/state-model/"
   ]
  },
  {
   "cell_type": "markdown",
   "id": "d26d471d",
   "metadata": {
    "vscode": {
     "languageId": "plaintext"
    }
   },
   "source": [
    "### Limitations / Warnings\n",
    "\n",
    "- The `output` of the graph will **NOT** be an instance of a pydantic model. \n",
    "- Run-time validation only occurs on **inputs** into nodes, not on the outputs. \n",
    "- The validation error trace from pydantic does not show which node the error arises in. "
   ]
  },
  {
   "cell_type": "markdown",
   "id": "fc516dd7",
   "metadata": {
    "vscode": {
     "languageId": "plaintext"
    }
   },
   "source": [
    "### Input Validation "
   ]
  },
  {
   "cell_type": "code",
   "execution_count": 13,
   "id": "59e7efc9",
   "metadata": {},
   "outputs": [
    {
     "name": "stdout",
     "output_type": "stream",
     "text": [
      "{'a': 'goodbye'}\n"
     ]
    }
   ],
   "source": [
    "from langgraph.graph import StateGraph, START, END\n",
    "from typing_extensions import TypedDict\n",
    "from pydantic import BaseModel, ValidationError\n",
    "\n",
    "\n",
    "# The overall state of the graph (this is the public state shared across nodes)\n",
    "class OverallState(BaseModel):\n",
    "    a: str\n",
    "\n",
    "\n",
    "# The node state (this is the private state of the node)\n",
    "def node(state: OverallState) -> OverallState:\n",
    "    return {\"a\": \"goodbye\"}\n",
    "\n",
    "\n",
    "# Build the state graph\n",
    "builder = StateGraph(OverallState)\n",
    "builder.add_node(node)  # node_1 is the first node\n",
    "builder.add_edge(START, \"node\")  # Start the graph with node_1\n",
    "builder.add_edge(\"node\", END)  # End the graph after node_1\n",
    "graph = builder.compile()\n",
    "\n",
    "# Test the graph with a valid input\n",
    "graph.invoke({\"a\": \"hello\"})\n",
    "\n",
    "# Test the graph with an invalid input\n",
    "try:\n",
    "    print(graph.invoke({\"a\": 1.3910}))  # This should raise a validation error\n",
    "except ValidationError as e:\n",
    "    print(f\"Validation error: {e}\")"
   ]
  },
  {
   "cell_type": "markdown",
   "id": "03145037",
   "metadata": {},
   "source": [
    "### Multi-node Graphs with pydantic runtime validation"
   ]
  },
  {
   "cell_type": "code",
   "execution_count": null,
   "id": "48691f7b",
   "metadata": {},
   "outputs": [],
   "source": [
    "from langgraph.graph import StateGraph, START, END\n",
    "from typing_extensions import TypedDict\n",
    "\n",
    "from pydantic import BaseModel\n",
    "\n",
    "\n",
    "# The overall state of the graph (this is the public state shared across nodes)\n",
    "class OverallState(BaseModel):\n",
    "    a: str\n",
    "\n",
    "\n",
    "def bad_node(state: OverallState):\n",
    "    return {\n",
    "        \"a\": 123  # Invalid\n",
    "    }\n",
    "\n",
    "\n",
    "def ok_node(state: OverallState):\n",
    "    return {\"a\": \"goodbye\"}\n",
    "\n",
    "\n",
    "# Build the state graph\n",
    "builder = StateGraph(OverallState)\n",
    "\n",
    "# define the nodes/functions to use in the graph\n",
    "builder.add_node(bad_node)\n",
    "builder.add_node(ok_node)\n",
    "\n",
    "# define the graph structure\n",
    "# define the edges between the nodes\n",
    "builder.add_edge(START, \"bad_node\")\n",
    "builder.add_edge(\"bad_node\", \"ok_node\")\n",
    "builder.add_edge(\"ok_node\", END)\n",
    "graph = builder.compile()\n",
    "\n",
    "# Test the graph with a valid input\n",
    "try:\n",
    "    graph.invoke({\"a\": \"hello\"})\n",
    "except Exception as e:\n",
    "    print(\"An exception was raised because bad_node sets `a` to an integer.\")\n",
    "    print(e)"
   ]
  },
  {
   "cell_type": "markdown",
   "id": "c6596f53",
   "metadata": {},
   "source": [
    "### Serialization Behavior \n",
    "When using Pydantic models as state schemas, it's important to understand how serialization works\n",
    "\n",
    "**especially when: - Passing Pydantic objects as inputs - Receiving non pydantic outputs from the graph that need to be convereted back into pydantic model**"
   ]
  },
  {
   "cell_type": "code",
   "execution_count": null,
   "id": "34db6bdb",
   "metadata": {},
   "outputs": [
    {
     "name": "stdout",
     "output_type": "stream",
     "text": [
      "Input object type: <class '__main__.ComplexState'>\n",
      "Input state type: <class '__main__.ComplexState'>\n",
      "Nested type: <class '__main__.NestedModel'>\n",
      "Output type: <class 'langgraph.pregel.io.AddableValuesDict'>\n",
      "Output content: {'text': 'hello processed', 'count': 1, 'nested': {'value': 'test processed'}}\n",
      "Converted back to Pydantic: <class '__main__.ComplexState'>\n"
     ]
    }
   ],
   "source": [
    "from langgraph.graph import StateGraph, START, END\n",
    "from pydantic import BaseModel"
   ]
  },
  {
   "cell_type": "code",
   "execution_count": null,
   "id": "9f515f10",
   "metadata": {},
   "outputs": [],
   "source": [
    "#define the pydantic states\n",
    "class NestedModel(BaseModel):\n",
    "    value: str\n",
    "\n",
    "\n",
    "class ComplexState(BaseModel):\n",
    "    text: str\n",
    "    count: int\n",
    "    nested: NestedModel\n",
    "\n",
    "# Define the node function\n",
    "# This function will be called when the node is invoked\n",
    "def process_node(state: ComplexState):\n",
    "    # Node receives a validated Pydantic object\n",
    "    print(f\"Input state type: {type(state)}\")\n",
    "    print(f\"Nested type: {type(state.nested)}\")\n",
    "\n",
    "    # Return a dictionary update\n",
    "    return {\"text\": state.text + \" processed\"\n",
    "            , \"count\": state.count + 1\n",
    "            , \"nested\": {\"value\": state.nested.value + \" processed\"}\n",
    "            }"
   ]
  },
  {
   "cell_type": "code",
   "execution_count": null,
   "id": "35fbd6d2",
   "metadata": {},
   "outputs": [],
   "source": [
    "# Build the graph\n",
    "\n",
    "# Create a state graph with the ComplexState model\n",
    "builder = StateGraph(ComplexState)\n",
    "builder.add_node(\"process\", process_node)\n",
    "\n",
    "#start the graph with the 'process' node\n",
    "builder.add_edge(START, \"process\")\n",
    "\n",
    "#end the graph after the 'process' node\n",
    "# Note: The END node is not strictly necessary, but it's a good practice to have it\n",
    "builder.add_edge(\"process\", END)\n",
    "graph = builder.compile()\n",
    "\n",
    "# Create a Pydantic instance for input\n",
    "input_state = ComplexState(text=\"hello\"\n",
    "                           , count=0\n",
    "                           , nested=NestedModel(value=\"test\")\n",
    "                           )\n",
    "\n",
    "# Invoke the graph with the Pydantic instance\n",
    "print(f\"Input object type: {type(input_state)}\")\n",
    "\n",
    "# Invoke graph with a Pydantic instance\n",
    "result = graph.invoke(input_state)\n",
    "print(f\"Output type: {type(result)}\")\n",
    "print(f\"Output content: {result}\")\n",
    "\n",
    "\n",
    "# Convert back to Pydantic model if needed\n",
    "# VERY USEFUL: Convert the output back to a Pydantic model\n",
    "# This is useful if you want to ensure the output is a valid Pydantic model\n",
    "output_model = ComplexState(**result)\n",
    "print(f\"Converted back to Pydantic: {type(output_model)}\")"
   ]
  },
  {
   "cell_type": "markdown",
   "id": "62031661",
   "metadata": {},
   "source": [
    "### Runtime Coercion \n",
    "*Warning: Pydantic performs runtime type coercion for certain data types*"
   ]
  },
  {
   "cell_type": "code",
   "execution_count": null,
   "id": "de175cd1",
   "metadata": {},
   "outputs": [
    {
     "name": "stdout",
     "output_type": "stream",
     "text": [
      "number: 42 (type: <class 'str'>)\n",
      "flag: true (type: <class 'str'>)\n",
      "\n",
      "Expected validation error: 1 validation error for CoercionExample\n",
      "number\n",
      "  Input should be a valid integer, unable to parse string as an integer [type=int_parsing, input_value='not-a-number', input_type=str]\n",
      "    For further information visit https://errors.pydantic.dev/2.11/v/int_parsing\n"
     ]
    }
   ],
   "source": [
    "class CoercionExample(BaseModel):\n",
    "    # Pydantic will coerce string numbers to integers\n",
    "    number: int\n",
    "    # Pydantic will parse string booleans to bool\n",
    "    flag: bool\n",
    "\n",
    "\n",
    "def inspect_node(state: CoercionExample):\n",
    "    print(f\"number: {state.number} (type: {type(state.number)})\")\n",
    "    print(f\"flag: {state.flag} (type: {type(state.flag)})\")\n",
    "    return {}\n",
    "\n",
    "\n",
    "#build the graph\n",
    "builder = StateGraph(CoercionExample)\n",
    "builder.add_node(\"inspect\", inspect_node)\n",
    "builder.add_edge(START, \"inspect\")\n",
    "builder.add_edge(\"inspect\", END)\n",
    "graph = builder.compile()\n",
    "\n",
    "# Demonstrate coercion with string inputs that will be converted automatically\n",
    "# This will coerce the string \"42\" to an integer\n",
    "result = graph.invoke({\"number\": \"42\", \"flag\": \"true\"})\n",
    "\n",
    "# This would fail with a validation error\n",
    "# because \"not-a-number\" cannot be coerced to an integer\n",
    "try:\n",
    "    graph.invoke({\"number\": \"not-a-number\", \"flag\": \"true\"})\n",
    "except Exception as e:\n",
    "    print(f\"\\nExpected validation error: {e}\")"
   ]
  },
  {
   "cell_type": "markdown",
   "id": "ae01a0ce",
   "metadata": {},
   "source": [
    "### Using Pydantic objects with Message Models\n",
    "\n",
    "when working with LangChain message types in your state schema, yhou should use ***AnyMessage*** (rather than BaseMessage) for proper serialization/deserialization when using message objects over the wire"
   ]
  },
  {
   "cell_type": "code",
   "execution_count": 20,
   "id": "7903b368",
   "metadata": {},
   "outputs": [
    {
     "name": "stdout",
     "output_type": "stream",
     "text": [
      "Output: {'messages': [HumanMessage(content='Hi', additional_kwargs={}, response_metadata={}), AIMessage(content='Hello there!', additional_kwargs={}, response_metadata={})], 'context': 'Customer support chat'}\n",
      "Message 0: HumanMessage - Hi\n",
      "Message 1: AIMessage - Hello there!\n"
     ]
    }
   ],
   "source": [
    "from langchain_core.messages import HumanMessage, AIMessage, AnyMessage\n",
    "from typing import List\n",
    "\n",
    "\n",
    "class ChatState(BaseModel):\n",
    "    messages: List[AnyMessage] # List of messages. This can be HumanMessage or AIMessage\n",
    "    context: str # Context for the chat, can be used to store additional information\n",
    "\n",
    "# dummy function to simulate a chat\n",
    "def add_message(state: ChatState):\n",
    "    return {\"messages\": state.messages + [AIMessage(content=\"Hello there!\")]}\n",
    "\n",
    "\n",
    "# Build the state graph with the ChatState model\n",
    "builder = StateGraph(ChatState)\n",
    "\n",
    "# Define nodes\n",
    "builder.add_node(\"add_message\", add_message)\n",
    "\n",
    "# Define edges\n",
    "builder.add_edge(START, \"add_message\")\n",
    "builder.add_edge(\"add_message\", END)\n",
    "graph = builder.compile()\n",
    "\n",
    "# Create input with a message\n",
    "initial_state = ChatState(\n",
    "    messages=[HumanMessage(content=\"Hi\")], context=\"Customer support chat\"\n",
    ")\n",
    "\n",
    "result = graph.invoke(initial_state)\n",
    "print(f\"Output: {result}\")\n",
    "\n",
    "# Convert back to Pydantic model to see message types\n",
    "output_model = ChatState(**result)\n",
    "for i, msg in enumerate(output_model.messages):\n",
    "    print(f\"Message {i}: {type(msg).__name__} - {msg.content}\")\n"
   ]
  }
 ],
 "metadata": {
  "kernelspec": {
   "display_name": "langy3",
   "language": "python",
   "name": "python3"
  },
  "language_info": {
   "codemirror_mode": {
    "name": "ipython",
    "version": 3
   },
   "file_extension": ".py",
   "mimetype": "text/x-python",
   "name": "python",
   "nbconvert_exporter": "python",
   "pygments_lexer": "ipython3",
   "version": "3.11.9"
  }
 },
 "nbformat": 4,
 "nbformat_minor": 5
}
